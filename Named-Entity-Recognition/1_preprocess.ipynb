{
 "cells": [
  {
   "cell_type": "code",
   "execution_count": 1,
   "id": "024b442c-1b8c-44dd-9d0b-c11ca774089e",
   "metadata": {},
   "outputs": [],
   "source": [
    "import os\n",
    "import pandas as pd\n",
    "from concurrent.futures import ProcessPoolExecutor"
   ]
  },
  {
   "cell_type": "markdown",
   "id": "d483bb60-b60e-473a-9cfb-cfc6b6edaa66",
   "metadata": {},
   "source": [
    "download the dataset from here ---> [dataset](https://www.dropbox.com/scl/fi/ln64xjqlwd4665u9sp2bq/Full_Dataset.rar?rlkey=g5aa4zefy2xpj98n3x8ihjcp2&st=bg907w5p&dl=0)"
   ]
  },
  {
   "cell_type": "code",
   "execution_count": 2,
   "id": "178b6e83-5ff4-4b98-ae9d-3bb3709ce199",
   "metadata": {},
   "outputs": [],
   "source": [
    "folder_path = \"Full_Dataset\""
   ]
  },
  {
   "cell_type": "markdown",
   "id": "a3df6964-a32f-454c-a96c-54b0c4a95479",
   "metadata": {},
   "source": [
    "The dataset consists of several txt files and each file contains a text, in such a way that the words are written one below the other and if that word is an existing one, it will have a label of 1 and if it is not existing, it will have a label of 0.\n",
    "\n",
    "The goal is to convert each file into a single line and, if there is a label 1 in the file, assign label 1 to the entire file."
   ]
  },
  {
   "cell_type": "code",
   "execution_count": 3,
   "id": "5679560e-6c24-4285-8eb1-16391dbe7691",
   "metadata": {},
   "outputs": [],
   "source": [
    "def process_file(file_path):\n",
    "    with open(file_path, 'r', encoding='utf-8') as f:\n",
    "        words = []\n",
    "        numbers = []\n",
    "        for line in f:\n",
    "            parts = line.strip().split()\n",
    "            if len(parts) == 2:\n",
    "                word, number = parts\n",
    "                words.append(word)\n",
    "                numbers.append(int(number))\n",
    "    return {\n",
    "        \"text\": \" \".join(words),\n",
    "        \"existence\": numbers\n",
    "    }\n",
    "\n",
    "# taking full path of files\n",
    "files = [os.path.join(folder_path, fname) \n",
    "         for fname in os.listdir(folder_path) if fname.endswith(\".txt\")]\n",
    "\n",
    "# sorting by number of files\n",
    "files.sort(key=lambda x: int(os.path.splitext(os.path.basename(x))[0]))\n",
    "\n",
    "# parallel processing\n",
    "with ProcessPoolExecutor() as executor:\n",
    "    data = list(executor.map(process_file, files))"
   ]
  },
  {
   "cell_type": "code",
   "execution_count": 4,
   "id": "a0b457fd-de04-4557-883f-eac9d3445498",
   "metadata": {},
   "outputs": [],
   "source": [
    "df = pd.DataFrame(data)"
   ]
  },
  {
   "cell_type": "code",
   "execution_count": 7,
   "id": "466ca2bf-8ed6-47b6-bcc7-3f69dd7bb30e",
   "metadata": {},
   "outputs": [
    {
     "data": {
      "text/html": [
       "<div>\n",
       "<style scoped>\n",
       "    .dataframe tbody tr th:only-of-type {\n",
       "        vertical-align: middle;\n",
       "    }\n",
       "\n",
       "    .dataframe tbody tr th {\n",
       "        vertical-align: top;\n",
       "    }\n",
       "\n",
       "    .dataframe thead th {\n",
       "        text-align: right;\n",
       "    }\n",
       "</style>\n",
       "<table border=\"1\" class=\"dataframe\">\n",
       "  <thead>\n",
       "    <tr style=\"text-align: right;\">\n",
       "      <th></th>\n",
       "      <th>text</th>\n",
       "      <th>existence</th>\n",
       "    </tr>\n",
       "  </thead>\n",
       "  <tbody>\n",
       "    <tr>\n",
       "      <th>0</th>\n",
       "      <td>به عنوان مثال وقتی نشریات مدافع اصول و ارزشها ...</td>\n",
       "      <td>[0, 0, 0, 0, 0, 0, 0, 0, 0, 0, 0, 0, 0, 0, 0, ...</td>\n",
       "    </tr>\n",
       "    <tr>\n",
       "      <th>1</th>\n",
       "      <td>دکتر اصغری دبیر چهارمین همایش انجمن زمین‌شناسی...</td>\n",
       "      <td>[0, 1, 0, 0, 0, 0, 0, 0, 0, 0, 0, 0, 0, 0, 0, ...</td>\n",
       "    </tr>\n",
       "    <tr>\n",
       "      <th>2</th>\n",
       "      <td>دکتر اکبر میرعرب در همایش بررسی و پیشگیری از ب...</td>\n",
       "      <td>[0, 1, 1, 0, 0, 0, 0, 0, 0, 0, 0, 0, 0, 0, 0, ...</td>\n",
       "    </tr>\n",
       "    <tr>\n",
       "      <th>3</th>\n",
       "      <td>اردبیل ـ استاندار اردبیل گفت : به مناسبت هفته ...</td>\n",
       "      <td>[0, 0, 0, 0, 0, 0, 0, 0, 0, 0, 0, 0, 0, 0, 0, ...</td>\n",
       "    </tr>\n",
       "    <tr>\n",
       "      <th>4</th>\n",
       "      <td>حمید طاهایی افزود : برای اجرای این طرحها 0 میل...</td>\n",
       "      <td>[1, 1, 0, 0, 0, 0, 0, 0, 0, 0, 0, 0, 0, 0, 0, ...</td>\n",
       "    </tr>\n",
       "    <tr>\n",
       "      <th>...</th>\n",
       "      <td>...</td>\n",
       "      <td>...</td>\n",
       "    </tr>\n",
       "    <tr>\n",
       "      <th>18264</th>\n",
       "      <td>دیدار تراکتورسازی و ملوان زیر بارش شدید باران ...</td>\n",
       "      <td>[0, 0, 0, 0, 0, 0, 0, 0, 0, 0]</td>\n",
       "    </tr>\n",
       "    <tr>\n",
       "      <th>18265</th>\n",
       "      <td>[ هوای تبریز ، ملوانی شد ] .</td>\n",
       "      <td>[0, 0, 0, 0, 0, 0, 0, 0]</td>\n",
       "    </tr>\n",
       "    <tr>\n",
       "      <th>18266</th>\n",
       "      <td>به گزارش \" ورزش سه \" ، آب و هوای شهر تبریز از ...</td>\n",
       "      <td>[0, 0, 0, 0, 0, 0, 0, 0, 0, 0, 0, 0, 0, 0, 0, ...</td>\n",
       "    </tr>\n",
       "    <tr>\n",
       "      <th>18267</th>\n",
       "      <td>با توجه به هوای شرجی انزلی ، چنین آب و هوایی ب...</td>\n",
       "      <td>[0, 0, 0, 0, 0, 0, 0, 0, 0, 0, 0, 0, 0, 0, 0, ...</td>\n",
       "    </tr>\n",
       "    <tr>\n",
       "      <th>18268</th>\n",
       "      <td>این در حالی است که تا شب گذشته هوای تبریز آفتا...</td>\n",
       "      <td>[0, 0, 0, 0, 0, 0, 0, 0, 0, 0, 0, 0, 0]</td>\n",
       "    </tr>\n",
       "  </tbody>\n",
       "</table>\n",
       "<p>18269 rows × 2 columns</p>\n",
       "</div>"
      ],
      "text/plain": [
       "                                                    text  \\\n",
       "0      به عنوان مثال وقتی نشریات مدافع اصول و ارزشها ...   \n",
       "1      دکتر اصغری دبیر چهارمین همایش انجمن زمین‌شناسی...   \n",
       "2      دکتر اکبر میرعرب در همایش بررسی و پیشگیری از ب...   \n",
       "3      اردبیل ـ استاندار اردبیل گفت : به مناسبت هفته ...   \n",
       "4      حمید طاهایی افزود : برای اجرای این طرحها 0 میل...   \n",
       "...                                                  ...   \n",
       "18264  دیدار تراکتورسازی و ملوان زیر بارش شدید باران ...   \n",
       "18265                       [ هوای تبریز ، ملوانی شد ] .   \n",
       "18266  به گزارش \" ورزش سه \" ، آب و هوای شهر تبریز از ...   \n",
       "18267  با توجه به هوای شرجی انزلی ، چنین آب و هوایی ب...   \n",
       "18268  این در حالی است که تا شب گذشته هوای تبریز آفتا...   \n",
       "\n",
       "                                               existence  \n",
       "0      [0, 0, 0, 0, 0, 0, 0, 0, 0, 0, 0, 0, 0, 0, 0, ...  \n",
       "1      [0, 1, 0, 0, 0, 0, 0, 0, 0, 0, 0, 0, 0, 0, 0, ...  \n",
       "2      [0, 1, 1, 0, 0, 0, 0, 0, 0, 0, 0, 0, 0, 0, 0, ...  \n",
       "3      [0, 0, 0, 0, 0, 0, 0, 0, 0, 0, 0, 0, 0, 0, 0, ...  \n",
       "4      [1, 1, 0, 0, 0, 0, 0, 0, 0, 0, 0, 0, 0, 0, 0, ...  \n",
       "...                                                  ...  \n",
       "18264                     [0, 0, 0, 0, 0, 0, 0, 0, 0, 0]  \n",
       "18265                           [0, 0, 0, 0, 0, 0, 0, 0]  \n",
       "18266  [0, 0, 0, 0, 0, 0, 0, 0, 0, 0, 0, 0, 0, 0, 0, ...  \n",
       "18267  [0, 0, 0, 0, 0, 0, 0, 0, 0, 0, 0, 0, 0, 0, 0, ...  \n",
       "18268            [0, 0, 0, 0, 0, 0, 0, 0, 0, 0, 0, 0, 0]  \n",
       "\n",
       "[18269 rows x 2 columns]"
      ]
     },
     "execution_count": 7,
     "metadata": {},
     "output_type": "execute_result"
    }
   ],
   "source": [
    "df"
   ]
  },
  {
   "cell_type": "code",
   "execution_count": 8,
   "id": "fcf0ed83-1966-48b9-b67e-e8cddae476ff",
   "metadata": {},
   "outputs": [],
   "source": [
    "df[\"existence\"] = df[\"existence\"].apply(lambda lst: 0 if all(x == 0 for x in lst) else 1)"
   ]
  },
  {
   "cell_type": "code",
   "execution_count": 9,
   "id": "7cf2d6fb-5b94-4b7b-b799-3cc1942587c0",
   "metadata": {},
   "outputs": [
    {
     "data": {
      "text/html": [
       "<div>\n",
       "<style scoped>\n",
       "    .dataframe tbody tr th:only-of-type {\n",
       "        vertical-align: middle;\n",
       "    }\n",
       "\n",
       "    .dataframe tbody tr th {\n",
       "        vertical-align: top;\n",
       "    }\n",
       "\n",
       "    .dataframe thead th {\n",
       "        text-align: right;\n",
       "    }\n",
       "</style>\n",
       "<table border=\"1\" class=\"dataframe\">\n",
       "  <thead>\n",
       "    <tr style=\"text-align: right;\">\n",
       "      <th></th>\n",
       "      <th>text</th>\n",
       "      <th>existence</th>\n",
       "    </tr>\n",
       "  </thead>\n",
       "  <tbody>\n",
       "    <tr>\n",
       "      <th>0</th>\n",
       "      <td>به عنوان مثال وقتی نشریات مدافع اصول و ارزشها ...</td>\n",
       "      <td>0</td>\n",
       "    </tr>\n",
       "    <tr>\n",
       "      <th>1</th>\n",
       "      <td>دکتر اصغری دبیر چهارمین همایش انجمن زمین‌شناسی...</td>\n",
       "      <td>1</td>\n",
       "    </tr>\n",
       "    <tr>\n",
       "      <th>2</th>\n",
       "      <td>دکتر اکبر میرعرب در همایش بررسی و پیشگیری از ب...</td>\n",
       "      <td>1</td>\n",
       "    </tr>\n",
       "    <tr>\n",
       "      <th>3</th>\n",
       "      <td>اردبیل ـ استاندار اردبیل گفت : به مناسبت هفته ...</td>\n",
       "      <td>0</td>\n",
       "    </tr>\n",
       "    <tr>\n",
       "      <th>4</th>\n",
       "      <td>حمید طاهایی افزود : برای اجرای این طرحها 0 میل...</td>\n",
       "      <td>1</td>\n",
       "    </tr>\n",
       "    <tr>\n",
       "      <th>...</th>\n",
       "      <td>...</td>\n",
       "      <td>...</td>\n",
       "    </tr>\n",
       "    <tr>\n",
       "      <th>18264</th>\n",
       "      <td>دیدار تراکتورسازی و ملوان زیر بارش شدید باران ...</td>\n",
       "      <td>0</td>\n",
       "    </tr>\n",
       "    <tr>\n",
       "      <th>18265</th>\n",
       "      <td>[ هوای تبریز ، ملوانی شد ] .</td>\n",
       "      <td>0</td>\n",
       "    </tr>\n",
       "    <tr>\n",
       "      <th>18266</th>\n",
       "      <td>به گزارش \" ورزش سه \" ، آب و هوای شهر تبریز از ...</td>\n",
       "      <td>0</td>\n",
       "    </tr>\n",
       "    <tr>\n",
       "      <th>18267</th>\n",
       "      <td>با توجه به هوای شرجی انزلی ، چنین آب و هوایی ب...</td>\n",
       "      <td>1</td>\n",
       "    </tr>\n",
       "    <tr>\n",
       "      <th>18268</th>\n",
       "      <td>این در حالی است که تا شب گذشته هوای تبریز آفتا...</td>\n",
       "      <td>0</td>\n",
       "    </tr>\n",
       "  </tbody>\n",
       "</table>\n",
       "<p>18269 rows × 2 columns</p>\n",
       "</div>"
      ],
      "text/plain": [
       "                                                    text  existence\n",
       "0      به عنوان مثال وقتی نشریات مدافع اصول و ارزشها ...          0\n",
       "1      دکتر اصغری دبیر چهارمین همایش انجمن زمین‌شناسی...          1\n",
       "2      دکتر اکبر میرعرب در همایش بررسی و پیشگیری از ب...          1\n",
       "3      اردبیل ـ استاندار اردبیل گفت : به مناسبت هفته ...          0\n",
       "4      حمید طاهایی افزود : برای اجرای این طرحها 0 میل...          1\n",
       "...                                                  ...        ...\n",
       "18264  دیدار تراکتورسازی و ملوان زیر بارش شدید باران ...          0\n",
       "18265                       [ هوای تبریز ، ملوانی شد ] .          0\n",
       "18266  به گزارش \" ورزش سه \" ، آب و هوای شهر تبریز از ...          0\n",
       "18267  با توجه به هوای شرجی انزلی ، چنین آب و هوایی ب...          1\n",
       "18268  این در حالی است که تا شب گذشته هوای تبریز آفتا...          0\n",
       "\n",
       "[18269 rows x 2 columns]"
      ]
     },
     "execution_count": 9,
     "metadata": {},
     "output_type": "execute_result"
    }
   ],
   "source": [
    "df"
   ]
  },
  {
   "cell_type": "code",
   "execution_count": 10,
   "id": "ddd37214-eee6-490b-a4d8-286aef29bc14",
   "metadata": {},
   "outputs": [],
   "source": [
    "df.to_csv(\"dataset.csv\", index=False, encoding=\"utf-8\")"
   ]
  },
  {
   "cell_type": "code",
   "execution_count": 13,
   "id": "d93192a1-5af1-4744-ac57-46cb9cf97fb1",
   "metadata": {},
   "outputs": [
    {
     "data": {
      "text/plain": [
       "'[ هوای تبریز ، ملوانی شد ] .'"
      ]
     },
     "execution_count": 13,
     "metadata": {},
     "output_type": "execute_result"
    }
   ],
   "source": [
    "df['text'][18265]"
   ]
  },
  {
   "cell_type": "code",
   "execution_count": null,
   "id": "23b65792-17de-4b79-bf55-9840f6ad5fc1",
   "metadata": {},
   "outputs": [],
   "source": []
  }
 ],
 "metadata": {
  "kernelspec": {
   "display_name": "Python 3 (ipykernel)",
   "language": "python",
   "name": "python3"
  },
  "language_info": {
   "codemirror_mode": {
    "name": "ipython",
    "version": 3
   },
   "file_extension": ".py",
   "mimetype": "text/x-python",
   "name": "python",
   "nbconvert_exporter": "python",
   "pygments_lexer": "ipython3",
   "version": "3.11.2"
  }
 },
 "nbformat": 4,
 "nbformat_minor": 5
}
